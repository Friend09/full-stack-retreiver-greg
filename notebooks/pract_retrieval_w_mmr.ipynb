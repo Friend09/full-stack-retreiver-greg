{
 "cells": [
  {
   "cell_type": "markdown",
   "metadata": {},
   "source": [
    "# MMR RETRIEVER"
   ]
  },
  {
   "cell_type": "markdown",
   "metadata": {},
   "source": [
    "## SETUP"
   ]
  },
  {
   "cell_type": "code",
   "execution_count": 2,
   "metadata": {},
   "outputs": [],
   "source": [
    "import os\n",
    "from dotenv import load_dotenv, find_dotenv\n",
    "\n",
    "_ = load_dotenv(find_dotenv())\n",
    "OPENAI_API_KEY = os.getenv(\"OPENAI_API_KEY\")"
   ]
  },
  {
   "cell_type": "code",
   "execution_count": 3,
   "metadata": {},
   "outputs": [],
   "source": [
    "from langchain.document_loaders import DirectoryLoader\n",
    "from langchain.embeddings.openai import OpenAIEmbeddings\n",
    "from langchain.text_splitter import RecursiveCharacterTextSplitter\n",
    "from langchain.vectorstores import Chroma\n",
    "from langchain.document_loaders import WebBaseLoader"
   ]
  },
  {
   "cell_type": "code",
   "execution_count": 4,
   "metadata": {},
   "outputs": [
    {
     "name": "stdout",
     "output_type": "stream",
     "text": [
      "Your 1 documents have been split into 28 chunks\n"
     ]
    }
   ],
   "source": [
    "# Loading a single website\n",
    "loader = WebBaseLoader(\"http://www.paulgraham.com/wealth.html\")\n",
    "docs = loader.load()\n",
    "\n",
    "# split website into chunks\n",
    "text_splitter = RecursiveCharacterTextSplitter(\n",
    "    chunk_size=2000, chunk_overlap=0)\n",
    "chunks = text_splitter.split_documents(docs)\n",
    "\n",
    "print(f\"Your {len(docs)} documents have been split into {len(chunks)} chunks\")"
   ]
  },
  {
   "cell_type": "code",
   "execution_count": 8,
   "metadata": {},
   "outputs": [],
   "source": [
    "# create embeddings\n",
    "embedding = OpenAIEmbeddings()\n",
    "vectordb = Chroma.from_documents(documents=chunks, embedding=embedding)"
   ]
  },
  {
   "cell_type": "code",
   "execution_count": 9,
   "metadata": {},
   "outputs": [],
   "source": [
    "# create retrievers\n",
    "retriever_vanilla = vectordb.as_retriever(\n",
    "    search_type=\"similarity\", search_kwargs={\"k\": 8}\n",
    ")\n",
    "\n",
    "retriever_mmr = vectordb.as_retriever(search_type=\"mmr\", search_kwargs={\"k\": 8})"
   ]
  },
  {
   "cell_type": "code",
   "execution_count": 10,
   "metadata": {},
   "outputs": [],
   "source": [
    "# get relevant docs from retrievers to compare\n",
    "question = \"What is the best way to make and keep wealth?\"\n",
    "\n",
    "docs_vanilla = retriever_vanilla.get_relevant_documents(question)\n",
    "docs_mmr = retriever_mmr.get_relevant_documents(question)"
   ]
  },
  {
   "cell_type": "code",
   "execution_count": 13,
   "metadata": {},
   "outputs": [
    {
     "data": {
      "text/plain": [
       "Document(page_content='plan that centers on things you like doing.\\nThat is where your idea of what\\'s valuable is least\\nlikely to coincide with other people\\'s.[5]\\nIn the average car restoration you probably do make everyone\\nelse microscopically poorer, by doing a small amount of damage to\\nthe environment.  While environmental costs should be taken\\ninto account, they don\\'t\\nmake wealth a zero-sum game.  For example, if you repair\\na machine that\\'s broken because a part has come unscrewed,\\nyou create wealth with no environmental cost.[5b]\\nThis essay was written before Firefox.[6]\\nMany people feel confused and depressed in\\ntheir early twenties.  Life seemed so much more fun in college.\\nWell, of course it was.  Don\\'t be fooled by the surface similarities.\\nYou\\'ve gone from guest to servant.\\nIt\\'s possible to have fun in this new world. \\nAmong other things, you now get to go behind the doors that say\\n\"authorized personnel only.\"\\nBut the change is a shock at first, and all the worse\\nif you\\'re not consciously aware of it.[7]\\nWhen VCs asked us how long it would take another startup\\nto duplicate our software, we used to reply that they probably\\nwouldn\\'t be able to at all. I think this made us seem naive,\\nor liars.[8]\\nFew technologies have one clear inventor.  So as\\na rule, if you know the \"inventor\" of something\\n(the telephone, the assembly line, the airplane, \\nthe light bulb, the transistor) it is because their\\ncompany made money from it, and the company\\'s PR people worked\\nhard to spread the story.  If you don\\'t know who invented\\nsomething (the automobile, the television, the computer,\\nthe jet engine, the laser), it\\'s because other companies\\nmade all the money.[9]\\nThis is a good plan for life in general.\\nIf you have two choices, choose the harder.\\nIf you\\'re trying to decide whether to go out running or\\nsit home and watch TV, go running.\\nProbably the reason this trick works so well is that\\nwhen you have two choices and one is harder, the\\nonly reason you\\'re even considering the other is laziness.', metadata={'language': 'No language found.', 'source': 'http://www.paulgraham.com/wealth.html', 'title': 'How to Make Wealth'})"
      ]
     },
     "execution_count": 13,
     "metadata": {},
     "output_type": "execute_result"
    }
   ],
   "source": [
    "docs_mmr[2]"
   ]
  },
  {
   "cell_type": "code",
   "execution_count": 14,
   "metadata": {},
   "outputs": [],
   "source": [
    "def analyze_list_overlap(list1, list2, content_attr=\"page_content\"):\n",
    "    \"\"\"\n",
    "    Analyze the overlap and uniqueness between two lists of objects using a specified content attribute.\n",
    "\n",
    "    parameters:\n",
    "    list1 (list): The first list of objects to compare.\n",
    "    list2 (list): \"\"\""
   ]
  }
 ],
 "metadata": {
  "kernelspec": {
   "display_name": ".venv",
   "language": "python",
   "name": "python3"
  },
  "language_info": {
   "codemirror_mode": {
    "name": "ipython",
    "version": 3
   },
   "file_extension": ".py",
   "mimetype": "text/x-python",
   "name": "python",
   "nbconvert_exporter": "python",
   "pygments_lexer": "ipython3",
   "version": "3.12.2"
  }
 },
 "nbformat": 4,
 "nbformat_minor": 2
}
